{
 "cells": [
  {
   "cell_type": "code",
   "execution_count": 1,
   "id": "b5ce871c-ddb1-45ff-80e4-79069586e674",
   "metadata": {},
   "outputs": [],
   "source": [
    "import pandas as pd\n",
    "import numpy as np\n",
    "from scipy import stats\n",
    "from statsmodels.stats.proportion import proportions_ztest\n",
    "import matplotlib.pyplot as plt\n",
    "import seaborn as sns"
   ]
  },
  {
   "cell_type": "code",
   "execution_count": 4,
   "id": "6fb84414-8b3b-4572-996c-23456398265c",
   "metadata": {},
   "outputs": [
    {
     "name": "stdout",
     "output_type": "stream",
     "text": [
      "Data Shape: (294478, 5)\n",
      "\n",
      "Columns:\n",
      " Index(['user_id', 'timestamp', 'group', 'landing_page', 'converted'], dtype='object')\n",
      "\n",
      "Missing Values:\n",
      " user_id         0\n",
      "timestamp       0\n",
      "group           0\n",
      "landing_page    0\n",
      "converted       0\n",
      "dtype: int64\n"
     ]
    }
   ],
   "source": [
    "data= pd.read_csv(r\"C:\\Users\\Mohammed Zaid\\Downloads\\ab_data.csv\") \n",
    "print(\"Data Shape:\", data.shape)\n",
    "print(\"\\nColumns:\\n\", data.columns)\n",
    "print(\"\\nMissing Values:\\n\", data.isnull().sum())"
   ]
  },
  {
   "cell_type": "code",
   "execution_count": 5,
   "id": "d08f4802-f306-4a00-bf68-90081a38fb9a",
   "metadata": {},
   "outputs": [],
   "source": [
    "data.drop_duplicates(inplace=True)\n",
    "data.dropna(inplace=True)"
   ]
  },
  {
   "cell_type": "code",
   "execution_count": 6,
   "id": "c04d5ddc-5898-471f-94c5-71f999ab1708",
   "metadata": {},
   "outputs": [
    {
     "name": "stdout",
     "output_type": "stream",
     "text": [
      "\n",
      "Unique Groups: ['control' 'treatment']\n",
      "Unique Landing Pages: ['old_page' 'new_page']\n",
      "Conversion Rate by Group:\n",
      " group\n",
      "control      0.120399\n",
      "treatment    0.118920\n",
      "Name: converted, dtype: float64\n"
     ]
    }
   ],
   "source": [
    "print(\"\\nUnique Groups:\", data['group'].unique())\n",
    "print(\"Unique Landing Pages:\", data['landing_page'].unique())\n",
    "print(\"Conversion Rate by Group:\\n\", data.groupby('group')['converted'].mean())"
   ]
  },
  {
   "cell_type": "code",
   "execution_count": 9,
   "id": "2c6b9739-59ab-4001-a3fb-060a5606f6ae",
   "metadata": {},
   "outputs": [],
   "source": [
    "control_converted = data.query(\"group == 'control'\")['converted']\n",
    "treatment_converted = data.query(\"group == 'treatment'\")['converted']\n",
    "\n",
    "successes = [control_converted.sum(), treatment_converted.sum()]\n",
    "samples = [control_converted.count(), treatment_converted.count()]"
   ]
  },
  {
   "cell_type": "code",
   "execution_count": 10,
   "id": "6cdf44e9-ed1f-4b6f-99b4-68f7ac3b6ceb",
   "metadata": {},
   "outputs": [
    {
     "name": "stdout",
     "output_type": "stream",
     "text": [
      "\n",
      "Z-statistic = 1.237\n",
      "P-value = 0.2161\n"
     ]
    }
   ],
   "source": [
    "z_stat, p_value = proportions_ztest(successes, samples)\n",
    "print(f\"\\nZ-statistic = {z_stat:.3f}\")\n",
    "print(f\"P-value = {p_value:.4f}\")"
   ]
  },
  {
   "cell_type": "code",
   "execution_count": 11,
   "id": "04968575-1335-4492-aa2d-f261a2f95220",
   "metadata": {},
   "outputs": [
    {
     "name": "stdout",
     "output_type": "stream",
     "text": [
      " Fail to Reject the Null Hypothesis – No significant difference found.\n"
     ]
    }
   ],
   "source": [
    "alpha = 0.05\n",
    "if p_value < alpha:\n",
    "    print(\" Reject the Null Hypothesis – There is a significant difference in conversion rates.\")\n",
    "else:\n",
    "    print(\" Fail to Reject the Null Hypothesis – No significant difference found.\")"
   ]
  },
  {
   "cell_type": "code",
   "execution_count": 12,
   "id": "bcc6529f-ec5a-460e-bc18-0914a4e9dd6d",
   "metadata": {},
   "outputs": [
    {
     "name": "stderr",
     "output_type": "stream",
     "text": [
      "C:\\Users\\Mohammed Zaid\\AppData\\Local\\Temp\\ipykernel_24372\\3895011775.py:3: FutureWarning: \n",
      "\n",
      "Passing `palette` without assigning `hue` is deprecated and will be removed in v0.14.0. Assign the `x` variable to `hue` and set `legend=False` for the same effect.\n",
      "\n",
      "  sns.barplot(x='group', y='converted', data=conv_rate, palette='Set2')\n"
     ]
    },
    {
     "data": {
      "image/png": "[encoded data removed]",
      "text/plain": [
       "<Figure size 640x480 with 1 Axes>"
      ]
     },
     "metadata": {},
     "output_type": "display_data"
    }
   ],
   "source": [
    "conv_rate = data.groupby('group')['converted'].mean().reset_index()\n",
    "\n",
    "sns.barplot(x='group', y='converted', data=conv_rate, palette='Set2')\n",
    "plt.title('Conversion Rate Comparison: Control vs Treatment')\n",
    "plt.ylabel('Conversion Rate')\n",
    "plt.xlabel('Group')\n",
    "plt.show()"
   ]
  },
  {
   "cell_type": "markdown",
   "id": "adcdbbfe-c96a-430e-b9ea-b5a2dd575845",
   "metadata": {},
   "source": [
    "T-Test"
   ]
  },
  {
   "cell_type": "code",
   "execution_count": 13,
   "id": "e1da3375-5507-46fe-b91d-520360791d70",
   "metadata": {},
   "outputs": [
    {
     "name": "stdout",
     "output_type": "stream",
     "text": [
      "T-statistic = -0.767, P-value = 0.4431\n"
     ]
    }
   ],
   "source": [
    "df['session_duration'] = np.random.normal(300, 50, size=len(df))\n",
    "\n",
    "control_dur = df.query(\"group == 'control'\")['session_duration']\n",
    "treat_dur = df.query(\"group == 'treatment'\")['session_duration']\n",
    "\n",
    "from scipy import stats\n",
    "t_stat, p_val_t = stats.ttest_ind(control_dur, treat_dur)\n",
    "print(f\"T-statistic = {t_stat:.3f}, P-value = {p_val_t:.4f}\")"
   ]
  },
  {
   "cell_type": "code",
   "execution_count": null,
   "id": "15eb0e32-3a91-4734-a240-a9d21be0cf39",
   "metadata": {},
   "outputs": [],
   "source": []
  }
 ],
 "metadata": {
  "kernelspec": {
   "display_name": "Python 3 (ipykernel)",
   "language": "python",
   "name": "python3"
  },
  "language_info": {
   "codemirror_mode": {
    "name": "ipython",
    "version": 3
   },
   "file_extension": ".py",
   "mimetype": "text/x-python",
   "name": "python",
   "nbconvert_exporter": "python",
   "pygments_lexer": "ipython3",
   "version": "3.10.11"
  }
 },
 "nbformat": 4,
 "nbformat_minor": 5
}
